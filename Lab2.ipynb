{
  "nbformat": 4,
  "nbformat_minor": 0,
  "metadata": {
    "colab": {
      "name": "Lab2",
      "provenance": [],
      "collapsed_sections": [],
      "include_colab_link": true
    },
    "kernelspec": {
      "name": "python3",
      "display_name": "Python 3"
    }
  },
  "cells": [
    {
      "cell_type": "markdown",
      "metadata": {
        "id": "view-in-github",
        "colab_type": "text"
      },
      "source": [
        "<a href=\"https://colab.research.google.com/github/murarugeorgec/Configurations/blob/master/Lab2.ipynb\" target=\"_parent\"><img src=\"https://colab.research.google.com/assets/colab-badge.svg\" alt=\"Open In Colab\"/></a>"
      ]
    },
    {
      "cell_type": "markdown",
      "metadata": {
        "id": "dl8PIpyjbzx-",
        "colab_type": "text"
      },
      "source": [
        "#Laborator 2: Automate finite deterministe\n",
        "##Curs: Limbaje formale si automate\n",
        "##Autor: Pavel Cristian si Muraru George"
      ]
    },
    {
      "cell_type": "markdown",
      "metadata": {
        "id": "etwiayjQcFHK",
        "colab_type": "text"
      },
      "source": [
        "# Reprezentarea unui automat finit determinist (DFA)\n",
        "In ceea ce urmeaza va vom prezenta un mod de a reprezenta un ```DFA``` folosind dictionarele din ```python```."
      ]
    },
    {
      "cell_type": "code",
      "metadata": {
        "id": "TKxD0uL6T8WO",
        "colab_type": "code",
        "colab": {}
      },
      "source": [
        "# Setup phase\n",
        "!pip install -q graphviz"
      ],
      "execution_count": 0,
      "outputs": []
    },
    {
      "cell_type": "code",
      "metadata": {
        "colab_type": "code",
        "id": "1ne_rtBsR1H0",
        "cellView": "both",
        "colab": {}
      },
      "source": [
        "from itertools import product\n",
        "from graphviz import Digraph, Source\n",
        "\n",
        "\n",
        "# Vom codifca un DFA ca un dictionar\n",
        "# Urmatoarele variabile vor fi folosite drept chei in dictionar\n",
        "\n",
        "ALPHABET = \"ALPHABET\"\n",
        "STATES = \"STATES\"\n",
        "DELTA = \"DELTA\"\n",
        "START_STATE = \"START_STATE\"\n",
        "FINAL_STATES = \"FINAL_STATES\"\n",
        "SINK_STATE = \"SINK\""
      ],
      "execution_count": 0,
      "outputs": []
    },
    {
      "cell_type": "code",
      "metadata": {
        "colab_type": "code",
        "cellView": "form",
        "id": "lJeiEi-DZTXm",
        "colab": {}
      },
      "source": [
        "#@title Functii utilizate pentru graf (nu este nevoie sa modificati)\n",
        "def to_graph(dfa):\n",
        "        def get_edges(delta):\n",
        "            edges = {}\n",
        "            for (prev_state, symbol), next_state in delta.items():\n",
        "                edge = (prev_state, next_state)\n",
        "                if edge not in edges:\n",
        "                    edges[edge] = set()\n",
        "\n",
        "                edges[edge].add(symbol)\n",
        "\n",
        "            return edges\n",
        "\n",
        "          \n",
        "        def collate_symbols(dfa, edge_symbols):\n",
        "            collated = []\n",
        "            alphabet = dfa[ALPHABET]\n",
        "            i = 0\n",
        "            while i < len(alphabet):\n",
        "                if alphabet[i] not in edge_symbols:\n",
        "                    i += 1\n",
        "                    continue\n",
        "\n",
        "                range_start = i\n",
        "                while i + 1 < len(dfa[ALPHABET]) and \\\n",
        "                      alphabet[i + 1] in edge_symbols:\n",
        "                    i += 1\n",
        "\n",
        "                dist = i - range_start\n",
        "                if dist >= 2:\n",
        "                    label = \"{}-{}\".format(alphabet[range_start], alphabet[i])\n",
        "                    collated.append(label)\n",
        "                else:\n",
        "                    collated.append(str(alphabet[range_start]))\n",
        "                    if dist == 1:\n",
        "                        collated.append(str(alphabet[range_start + 1]))\n",
        "                        i += 1\n",
        "\n",
        "                i += 1\n",
        "\n",
        "            return \",\".join(collated)\n",
        "\n",
        "        dot = Digraph()\n",
        "\n",
        "        # This is here to nicely mark the starting state.\n",
        "        dot.node(\"_\", shape=\"point\")\n",
        "        dot.edge(\"_\", str(dfa[START_STATE]))\n",
        "\n",
        "        for state in dfa[STATES]:\n",
        "            shape = \"doublecircle\" if state in dfa[FINAL_STATES] else \"circle\"\n",
        "            dot.node(str(state), shape=shape)\n",
        "\n",
        "        edges = get_edges(dfa[DELTA])\n",
        "\n",
        "        edges = {k: collate_symbols(dfa, v) for k, v in edges.items()}\n",
        "        for (prev_state, next_state), label in edges.items():\n",
        "            dot.edge(str(prev_state), str(next_state), label=label)\n",
        "\n",
        "        return dot"
      ],
      "execution_count": 0,
      "outputs": []
    },
    {
      "cell_type": "code",
      "metadata": {
        "id": "reDxgwSHcM3j",
        "colab_type": "code",
        "colab": {}
      },
      "source": [
        "# Va fi folosita ca sink state\n",
        "INVALID_STATE = -1\n",
        "\n",
        "\n",
        "# Sa presupunem ca dorim sa construim automatul care accepta \"aaabb\"\n",
        "dfa = {\n",
        "    ALPHABET: [\"a\", \"b\"],\n",
        "    START_STATE: 0,\n",
        "    DELTA: {\n",
        "        (0, \"a\"): 1,\n",
        "        (1, \"a\"): 2,\n",
        "        (2, \"a\"): 3,\n",
        "        (3, \"b\"): 4,\n",
        "        (4, \"b\"): 5\n",
        "    },\n",
        "    \n",
        "    STATES: [0, 1, 2, 3, 4, 5, INVALID_STATE],\n",
        "    FINAL_STATES: [5],\n",
        "    SINK_STATE: INVALID_STATE\n",
        "}\n",
        "    \n",
        "# Acum va trebui sa adaugam tranzitii pentru toate celelalte combinatii de\n",
        "# (stare, simbol) care nu se gasesc deja in lista de tranzitii\n",
        "all_transitions = (product(dfa[STATES], dfa[ALPHABET]))\n",
        "not_present_trans = filter(lambda x: x not in dfa[DELTA], all_transitions)\n",
        "for trans in not_present_trans:\n",
        "  dfa[DELTA][trans] = dfa[SINK_STATE]\n",
        "  \n",
        "print(dfa)\n",
        "graph = to_graph(dfa)\n",
        "graph"
      ],
      "execution_count": 0,
      "outputs": []
    },
    {
      "cell_type": "markdown",
      "metadata": {
        "id": "n3RTJj6Bay-c",
        "colab_type": "text"
      },
      "source": [
        "# Exercitii"
      ]
    },
    {
      "cell_type": "markdown",
      "metadata": {
        "id": "F084gFq9bI0s",
        "colab_type": "text"
      },
      "source": [
        "##Exercitiul 1:\n"
      ]
    },
    {
      "cell_type": "code",
      "metadata": {
        "id": "w3rt9TiAVFDs",
        "colab_type": "code",
        "colab": {}
      },
      "source": [
        ""
      ],
      "execution_count": 0,
      "outputs": []
    },
    {
      "cell_type": "markdown",
      "metadata": {
        "id": "ZeZXdih0d8Rb",
        "colab_type": "text"
      },
      "source": [
        "Scrieti 2 DFA-uri.\n",
        "* Primul DFA va ccepta string-ul \"aaabbbc\".\n",
        "* Al doilea DFA va accepta string-ul \"aca\"."
      ]
    },
    {
      "cell_type": "markdown",
      "metadata": {
        "id": "QqAZu1WseJby",
        "colab_type": "text"
      },
      "source": [
        "## Exercitiul 2:"
      ]
    },
    {
      "cell_type": "markdown",
      "metadata": {
        "id": "XlXxH9DqeJz6",
        "colab_type": "text"
      },
      "source": [
        "Creati un nou DFA, folosind cele 2 automate definite mai sus, care accepta string-ul \"aaabbbcaca\" (cele 2 string-uri de mai sus, concatenate)."
      ]
    },
    {
      "cell_type": "code",
      "metadata": {
        "id": "LFrS3roeeFoa",
        "colab_type": "code",
        "colab": {}
      },
      "source": [
        ""
      ],
      "execution_count": 0,
      "outputs": []
    },
    {
      "cell_type": "markdown",
      "metadata": {
        "id": "rBAiXoRgeGH6",
        "colab_type": "text"
      },
      "source": [
        "## Exercitiul 3:"
      ]
    },
    {
      "cell_type": "markdown",
      "metadata": {
        "id": "_ErbIlSJexx1",
        "colab_type": "text"
      },
      "source": [
        "Scrieti un DFA care verifica validitatea unui CNP."
      ]
    },
    {
      "cell_type": "code",
      "metadata": {
        "id": "Lwa_-9_WeGdC",
        "colab_type": "code",
        "colab": {}
      },
      "source": [
        ""
      ],
      "execution_count": 0,
      "outputs": []
    },
    {
      "cell_type": "markdown",
      "metadata": {
        "id": "mMVX8w_JfY9V",
        "colab_type": "text"
      },
      "source": [
        "## Exercitiul 4:"
      ]
    },
    {
      "cell_type": "markdown",
      "metadata": {
        "id": "GCa4WT8zfcL9",
        "colab_type": "text"
      },
      "source": [
        "Scrieti un DFA care accepta doar date in formatul ZZ/LL/AAAA sau LL/ZZ/AAAA."
      ]
    },
    {
      "cell_type": "code",
      "metadata": {
        "id": "lWH2svNAfaW2",
        "colab_type": "code",
        "colab": {}
      },
      "source": [
        ""
      ],
      "execution_count": 0,
      "outputs": []
    },
    {
      "cell_type": "markdown",
      "metadata": {
        "id": "yYpMLyZggvVo",
        "colab_type": "text"
      },
      "source": [
        "## Exercitiul 5:"
      ]
    },
    {
      "cell_type": "markdown",
      "metadata": {
        "id": "oZOK0vJvg1zg",
        "colab_type": "text"
      },
      "source": [
        "Scrieti un DFA care verifica daca o adresa IP este valida."
      ]
    },
    {
      "cell_type": "code",
      "metadata": {
        "id": "BFbDEaexgw6C",
        "colab_type": "code",
        "colab": {}
      },
      "source": [
        ""
      ],
      "execution_count": 0,
      "outputs": []
    },
    {
      "cell_type": "markdown",
      "metadata": {
        "id": "ZvZU6FcuhCqA",
        "colab_type": "text"
      },
      "source": [
        "## Exercitiul 6:"
      ]
    },
    {
      "cell_type": "markdown",
      "metadata": {
        "id": "h-zBIoiuhFdo",
        "colab_type": "text"
      },
      "source": [
        "Moromete se plimba printr-un labirint modelat ca un grid.\n",
        "\n",
        "Celulele labirintului pot fi:\n",
        "* zone libere (Moromete poate pasi in acea zona)\n",
        "* capcane (Moromete ramane permanent blocat in acea zona);\n",
        "* iesiri din labirint (Moromete vrea sa ajunga la acestea pentru a scapa din labirint)\n",
        "\n",
        "Dandu-se un input ca in exemplul de mai jos, codificati si verificati daca simbolurile citite de la intrare\n",
        "il pot duce pe Moromete spre iesire.\n",
        "Cand Moromete incearca sa intre intr-un perete al gridului, acesta va ramane pe aceeasi pozitie.\n",
        "\n",
        "Ex input: \"LRSDLRRRU\"\n",
        "Unde:\n",
        "* D - mutare in jos\n",
        "* U - mutare in sus\n",
        "* L - mutare in stanga\n",
        "* R - mutare in dreapta\n"
      ]
    },
    {
      "cell_type": "code",
      "metadata": {
        "id": "5apLmOHhhEYI",
        "colab_type": "code",
        "colab": {}
      },
      "source": [
        "# Labirintul codificat\n",
        "GRID = [\n",
        "  [0, 0, 0, 0, 0],\n",
        "  [0, 0, 2, 0, 3],\n",
        "  [3, 3, 0, 0, 3],\n",
        "  [0, 0, 0, 0, 0],\n",
        "  [0, 0, 3, 0, 0],\n",
        "  [0, 2, 3, 0, 0],\n",
        "  [0, 0, 0, 1, 0]\n",
        "]\n",
        "\n",
        "# Unde\n",
        "# 0 - celule libere\n",
        "# 1 - pozitia initiala a lui Moromete\n",
        "# 2 - celule unde se afla o iesire\n",
        "# 3 - celule capcana\n",
        "\n",
        "GOOD_INPUT1 = \"LLU\"\n",
        "GOOD_INPUT1 = \"RRURULUUUL\" # Verifica coliziune cu perete grid\n",
        "BAD_INPUT1 = \"UUL\"\n",
        "BAD_INPUT2 = \"DDUL\"\n",
        "BAD_INPUT3 = \"LL\" # Inputul se termina si nu se ajunge la iesire"
      ],
      "execution_count": 0,
      "outputs": []
    },
    {
      "cell_type": "markdown",
      "metadata": {
        "id": "fAzbzKHom1pe",
        "colab_type": "text"
      },
      "source": [
        "## Exercitiul 7:"
      ]
    },
    {
      "cell_type": "markdown",
      "metadata": {
        "id": "XKPAH13tnWWl",
        "colab_type": "text"
      },
      "source": [
        "Scrieti un automat care detecteaza daca un text este spam.\n",
        "\n",
        "Se va primi:\n",
        "* Lista de cuvinte care apar de obicei in spam\n",
        "* Trebuie sa se faca scrierea pentru fiecare cuvant din lista de spam\n",
        "* Verificare daca un cuvant din text (care va fi split-uit) face parte din lista de spam\n",
        "* Euristica folosita pentru detectie de spam: $\\frac{nr\\_cuvinte\\_spam}{nr\\_cuvinte\\_totale}$"
      ]
    },
    {
      "cell_type": "code",
      "metadata": {
        "id": "x5GveU6gnSlH",
        "colab_type": "code",
        "colab": {}
      },
      "source": [
        "spam_words = ['now!','buy!', 'deal']\n",
        "alphabet = string.ascii_lowercase + ' ,.!?$'\n",
        "\n",
        "\n",
        "def get_spam_coefficient(input_txt):\n",
        "  #TODO\n",
        "  pass\n",
        "\n",
        "\n",
        "\n",
        "print(get_spam_coefficient(\"Now! buy! text\"))\n",
        "print(get_spam_coefficient(\"Hello there good man. Buy! this\"))"
      ],
      "execution_count": 0,
      "outputs": []
    }
  ]
}